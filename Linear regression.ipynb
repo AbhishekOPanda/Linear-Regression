{
 "cells": [
  {
   "cell_type": "markdown",
   "id": "b80f55c0",
   "metadata": {},
   "source": [
    "# Problem 5. Linear Regression "
   ]
  },
  {
   "cell_type": "markdown",
   "id": "113ba6a4",
   "metadata": {},
   "source": [
    "#### Import the Library"
   ]
  },
  {
   "cell_type": "code",
   "execution_count": 1,
   "id": "b962eb8a",
   "metadata": {},
   "outputs": [],
   "source": [
    "import pandas as pd\n",
    "from sklearn.preprocessing import StandardScaler\n",
    "from sklearn.model_selection import cross_val_predict\n",
    "from sklearn.metrics import mean_squared_error\n",
    "\n",
    "from sklearn.linear_model import Ridge\n",
    "from sklearn.linear_model import Lasso\n",
    "from sklearn.linear_model import ElasticNet"
   ]
  },
  {
   "cell_type": "markdown",
   "id": "4950c009",
   "metadata": {},
   "source": [
    "#### load the dataset"
   ]
  },
  {
   "cell_type": "code",
   "execution_count": 2,
   "id": "c5b100de",
   "metadata": {},
   "outputs": [],
   "source": [
    "df = pd.read_excel( \"training.xlsx\" )\n",
    "X, y = df[[\"X1\",\"X2\",\"X3\",\"X4\",\"X5\",\"X6\",\"X7\",\"X8\"]], df['Y2']"
   ]
  },
  {
   "cell_type": "markdown",
   "id": "4ceba65e",
   "metadata": {},
   "source": [
    "#### Perform feature scaling"
   ]
  },
  {
   "cell_type": "code",
   "execution_count": 3,
   "id": "cc0cbe9e",
   "metadata": {},
   "outputs": [],
   "source": [
    "X_scaled = StandardScaler().fit_transform(X)"
   ]
  },
  {
   "cell_type": "markdown",
   "id": "4ec11cbf",
   "metadata": {},
   "source": [
    "#### Lasso model "
   ]
  },
  {
   "cell_type": "code",
   "execution_count": 4,
   "id": "26330fb3",
   "metadata": {},
   "outputs": [
    {
     "name": "stdout",
     "output_type": "stream",
     "text": [
      "MSE: 15.165\n"
     ]
    }
   ],
   "source": [
    "# define model\n",
    "_Lasso = Lasso()\n",
    "# evaluate model\n",
    "y_pred_Lasso = cross_val_predict(_Lasso,X_scaled,y,cv=5)\n",
    "#printing mean squared error\n",
    "print(\"MSE: %0.3f\" % (mean_squared_error(y, y_pred_Lasso)))"
   ]
  },
  {
   "cell_type": "code",
   "execution_count": 5,
   "id": "ff5a7340",
   "metadata": {},
   "outputs": [
    {
     "data": {
      "text/html": [
       "<div>\n",
       "<style scoped>\n",
       "    .dataframe tbody tr th:only-of-type {\n",
       "        vertical-align: middle;\n",
       "    }\n",
       "\n",
       "    .dataframe tbody tr th {\n",
       "        vertical-align: top;\n",
       "    }\n",
       "\n",
       "    .dataframe thead th {\n",
       "        text-align: right;\n",
       "    }\n",
       "</style>\n",
       "<table border=\"1\" class=\"dataframe\">\n",
       "  <thead>\n",
       "    <tr style=\"text-align: right;\">\n",
       "      <th></th>\n",
       "      <th>Actual</th>\n",
       "      <th>Predicted</th>\n",
       "    </tr>\n",
       "  </thead>\n",
       "  <tbody>\n",
       "    <tr>\n",
       "      <th>0</th>\n",
       "      <td>21.33</td>\n",
       "      <td>31.420633</td>\n",
       "    </tr>\n",
       "    <tr>\n",
       "      <th>1</th>\n",
       "      <td>21.33</td>\n",
       "      <td>31.420633</td>\n",
       "    </tr>\n",
       "    <tr>\n",
       "      <th>2</th>\n",
       "      <td>21.33</td>\n",
       "      <td>31.420633</td>\n",
       "    </tr>\n",
       "    <tr>\n",
       "      <th>3</th>\n",
       "      <td>21.33</td>\n",
       "      <td>31.420633</td>\n",
       "    </tr>\n",
       "    <tr>\n",
       "      <th>4</th>\n",
       "      <td>28.28</td>\n",
       "      <td>31.978019</td>\n",
       "    </tr>\n",
       "    <tr>\n",
       "      <th>...</th>\n",
       "      <td>...</td>\n",
       "      <td>...</td>\n",
       "    </tr>\n",
       "    <tr>\n",
       "      <th>763</th>\n",
       "      <td>21.40</td>\n",
       "      <td>18.943342</td>\n",
       "    </tr>\n",
       "    <tr>\n",
       "      <th>764</th>\n",
       "      <td>16.88</td>\n",
       "      <td>19.542735</td>\n",
       "    </tr>\n",
       "    <tr>\n",
       "      <th>765</th>\n",
       "      <td>17.11</td>\n",
       "      <td>19.542735</td>\n",
       "    </tr>\n",
       "    <tr>\n",
       "      <th>766</th>\n",
       "      <td>16.61</td>\n",
       "      <td>19.542735</td>\n",
       "    </tr>\n",
       "    <tr>\n",
       "      <th>767</th>\n",
       "      <td>16.03</td>\n",
       "      <td>19.542735</td>\n",
       "    </tr>\n",
       "  </tbody>\n",
       "</table>\n",
       "<p>768 rows × 2 columns</p>\n",
       "</div>"
      ],
      "text/plain": [
       "     Actual  Predicted\n",
       "0     21.33  31.420633\n",
       "1     21.33  31.420633\n",
       "2     21.33  31.420633\n",
       "3     21.33  31.420633\n",
       "4     28.28  31.978019\n",
       "..      ...        ...\n",
       "763   21.40  18.943342\n",
       "764   16.88  19.542735\n",
       "765   17.11  19.542735\n",
       "766   16.61  19.542735\n",
       "767   16.03  19.542735\n",
       "\n",
       "[768 rows x 2 columns]"
      ]
     },
     "execution_count": 5,
     "metadata": {},
     "output_type": "execute_result"
    }
   ],
   "source": [
    "_Lasso.fit(X, y)\n",
    "#comparing the values with Lasso Model Prediction\n",
    "pd.DataFrame({'Actual': y, 'Predicted':y_pred_Lasso})"
   ]
  },
  {
   "cell_type": "markdown",
   "id": "a33a0198",
   "metadata": {},
   "source": [
    "#### Ridge Model"
   ]
  },
  {
   "cell_type": "code",
   "execution_count": 6,
   "id": "c2ed6ffb",
   "metadata": {},
   "outputs": [
    {
     "name": "stdout",
     "output_type": "stream",
     "text": [
      "MSE: 11.549\n"
     ]
    }
   ],
   "source": [
    "# define model\n",
    "_Ridge = Ridge()\n",
    "# evaluate model\n",
    "y_pred_Ridge = cross_val_predict(_Ridge,X,y,cv=5)\n",
    "#printing mean squared error\n",
    "print(\"MSE: %0.3f\" % (mean_squared_error(y, y_pred_Ridge)))"
   ]
  },
  {
   "cell_type": "code",
   "execution_count": 7,
   "id": "d08b7c55",
   "metadata": {},
   "outputs": [
    {
     "data": {
      "text/html": [
       "<div>\n",
       "<style scoped>\n",
       "    .dataframe tbody tr th:only-of-type {\n",
       "        vertical-align: middle;\n",
       "    }\n",
       "\n",
       "    .dataframe tbody tr th {\n",
       "        vertical-align: top;\n",
       "    }\n",
       "\n",
       "    .dataframe thead th {\n",
       "        text-align: right;\n",
       "    }\n",
       "</style>\n",
       "<table border=\"1\" class=\"dataframe\">\n",
       "  <thead>\n",
       "    <tr style=\"text-align: right;\">\n",
       "      <th></th>\n",
       "      <th>Actual</th>\n",
       "      <th>Predicted</th>\n",
       "    </tr>\n",
       "  </thead>\n",
       "  <tbody>\n",
       "    <tr>\n",
       "      <th>0</th>\n",
       "      <td>21.33</td>\n",
       "      <td>28.972323</td>\n",
       "    </tr>\n",
       "    <tr>\n",
       "      <th>1</th>\n",
       "      <td>21.33</td>\n",
       "      <td>29.102972</td>\n",
       "    </tr>\n",
       "    <tr>\n",
       "      <th>2</th>\n",
       "      <td>21.33</td>\n",
       "      <td>29.233620</td>\n",
       "    </tr>\n",
       "    <tr>\n",
       "      <th>3</th>\n",
       "      <td>21.33</td>\n",
       "      <td>29.364269</td>\n",
       "    </tr>\n",
       "    <tr>\n",
       "      <th>4</th>\n",
       "      <td>28.28</td>\n",
       "      <td>30.420999</td>\n",
       "    </tr>\n",
       "    <tr>\n",
       "      <th>...</th>\n",
       "      <td>...</td>\n",
       "      <td>...</td>\n",
       "    </tr>\n",
       "    <tr>\n",
       "      <th>763</th>\n",
       "      <td>21.40</td>\n",
       "      <td>20.715463</td>\n",
       "    </tr>\n",
       "    <tr>\n",
       "      <th>764</th>\n",
       "      <td>16.88</td>\n",
       "      <td>21.391427</td>\n",
       "    </tr>\n",
       "    <tr>\n",
       "      <th>765</th>\n",
       "      <td>17.11</td>\n",
       "      <td>21.510345</td>\n",
       "    </tr>\n",
       "    <tr>\n",
       "      <th>766</th>\n",
       "      <td>16.61</td>\n",
       "      <td>21.629263</td>\n",
       "    </tr>\n",
       "    <tr>\n",
       "      <th>767</th>\n",
       "      <td>16.03</td>\n",
       "      <td>21.748180</td>\n",
       "    </tr>\n",
       "  </tbody>\n",
       "</table>\n",
       "<p>768 rows × 2 columns</p>\n",
       "</div>"
      ],
      "text/plain": [
       "     Actual  Predicted\n",
       "0     21.33  28.972323\n",
       "1     21.33  29.102972\n",
       "2     21.33  29.233620\n",
       "3     21.33  29.364269\n",
       "4     28.28  30.420999\n",
       "..      ...        ...\n",
       "763   21.40  20.715463\n",
       "764   16.88  21.391427\n",
       "765   17.11  21.510345\n",
       "766   16.61  21.629263\n",
       "767   16.03  21.748180\n",
       "\n",
       "[768 rows x 2 columns]"
      ]
     },
     "execution_count": 7,
     "metadata": {},
     "output_type": "execute_result"
    }
   ],
   "source": [
    "_Ridge.fit(X, y)\n",
    "#comparing the values with Ridge Model Prediction\n",
    "pd.DataFrame({'Actual': y, 'Predicted':y_pred_Ridge})"
   ]
  },
  {
   "cell_type": "markdown",
   "id": "6161e77a",
   "metadata": {},
   "source": [
    "#### Elastic Net model\n"
   ]
  },
  {
   "cell_type": "code",
   "execution_count": 8,
   "id": "bed21f37",
   "metadata": {},
   "outputs": [
    {
     "name": "stdout",
     "output_type": "stream",
     "text": [
      "MSE: 19.198\n"
     ]
    }
   ],
   "source": [
    "# define model\n",
    "_ElasticNet = ElasticNet()\n",
    "# evaluate model\n",
    "y_pred_ElasticNet = cross_val_predict(_ElasticNet,X_scaled,y,cv=5)\n",
    "#printing mean squared error\n",
    "print(\"MSE: %0.3f\" %  (mean_squared_error(y, y_pred_ElasticNet)))"
   ]
  },
  {
   "cell_type": "code",
   "execution_count": 9,
   "id": "510fb43e",
   "metadata": {},
   "outputs": [
    {
     "data": {
      "text/html": [
       "<div>\n",
       "<style scoped>\n",
       "    .dataframe tbody tr th:only-of-type {\n",
       "        vertical-align: middle;\n",
       "    }\n",
       "\n",
       "    .dataframe tbody tr th {\n",
       "        vertical-align: top;\n",
       "    }\n",
       "\n",
       "    .dataframe thead th {\n",
       "        text-align: right;\n",
       "    }\n",
       "</style>\n",
       "<table border=\"1\" class=\"dataframe\">\n",
       "  <thead>\n",
       "    <tr style=\"text-align: right;\">\n",
       "      <th></th>\n",
       "      <th>Actual</th>\n",
       "      <th>Predicted</th>\n",
       "    </tr>\n",
       "  </thead>\n",
       "  <tbody>\n",
       "    <tr>\n",
       "      <th>0</th>\n",
       "      <td>21.33</td>\n",
       "      <td>32.148541</td>\n",
       "    </tr>\n",
       "    <tr>\n",
       "      <th>1</th>\n",
       "      <td>21.33</td>\n",
       "      <td>32.148541</td>\n",
       "    </tr>\n",
       "    <tr>\n",
       "      <th>2</th>\n",
       "      <td>21.33</td>\n",
       "      <td>32.148541</td>\n",
       "    </tr>\n",
       "    <tr>\n",
       "      <th>3</th>\n",
       "      <td>21.33</td>\n",
       "      <td>32.148541</td>\n",
       "    </tr>\n",
       "    <tr>\n",
       "      <th>4</th>\n",
       "      <td>28.28</td>\n",
       "      <td>31.480921</td>\n",
       "    </tr>\n",
       "    <tr>\n",
       "      <th>...</th>\n",
       "      <td>...</td>\n",
       "      <td>...</td>\n",
       "    </tr>\n",
       "    <tr>\n",
       "      <th>763</th>\n",
       "      <td>21.40</td>\n",
       "      <td>19.925941</td>\n",
       "    </tr>\n",
       "    <tr>\n",
       "      <th>764</th>\n",
       "      <td>16.88</td>\n",
       "      <td>20.503657</td>\n",
       "    </tr>\n",
       "    <tr>\n",
       "      <th>765</th>\n",
       "      <td>17.11</td>\n",
       "      <td>20.503657</td>\n",
       "    </tr>\n",
       "    <tr>\n",
       "      <th>766</th>\n",
       "      <td>16.61</td>\n",
       "      <td>20.503657</td>\n",
       "    </tr>\n",
       "    <tr>\n",
       "      <th>767</th>\n",
       "      <td>16.03</td>\n",
       "      <td>20.503657</td>\n",
       "    </tr>\n",
       "  </tbody>\n",
       "</table>\n",
       "<p>768 rows × 2 columns</p>\n",
       "</div>"
      ],
      "text/plain": [
       "     Actual  Predicted\n",
       "0     21.33  32.148541\n",
       "1     21.33  32.148541\n",
       "2     21.33  32.148541\n",
       "3     21.33  32.148541\n",
       "4     28.28  31.480921\n",
       "..      ...        ...\n",
       "763   21.40  19.925941\n",
       "764   16.88  20.503657\n",
       "765   17.11  20.503657\n",
       "766   16.61  20.503657\n",
       "767   16.03  20.503657\n",
       "\n",
       "[768 rows x 2 columns]"
      ]
     },
     "execution_count": 9,
     "metadata": {},
     "output_type": "execute_result"
    }
   ],
   "source": [
    "_ElasticNet.fit(X, y)\n",
    "#comparing the values with Elastic Net Model Prediction\n",
    "pd.DataFrame({'Actual': y, 'Predicted':y_pred_ElasticNet})"
   ]
  },
  {
   "cell_type": "markdown",
   "id": "7fcd3330",
   "metadata": {},
   "source": [
    "#### -The mean Squared error for Ridge regression model is least.\n",
    "#### -I took the default value of alpha(Lambda)"
   ]
  }
 ],
 "metadata": {
  "kernelspec": {
   "display_name": "Python 3",
   "language": "python",
   "name": "python3"
  },
  "language_info": {
   "codemirror_mode": {
    "name": "ipython",
    "version": 3
   },
   "file_extension": ".py",
   "mimetype": "text/x-python",
   "name": "python",
   "nbconvert_exporter": "python",
   "pygments_lexer": "ipython3",
   "version": "3.8.8"
  }
 },
 "nbformat": 4,
 "nbformat_minor": 5
}
